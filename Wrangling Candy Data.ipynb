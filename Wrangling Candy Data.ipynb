{
 "cells": [
  {
   "cell_type": "markdown",
   "metadata": {},
   "source": [
    "# Wrangling Candy Data"
   ]
  },
  {
   "cell_type": "markdown",
   "metadata": {},
   "source": [
    "<img src=\"candy.jpg\">"
   ]
  },
  {
   "cell_type": "markdown",
   "metadata": {},
   "source": [
    "# Background"
   ]
  },
  {
   "cell_type": "markdown",
   "metadata": {},
   "source": [
    "The Science Creative Quarterly posted data (http://www.scq.ubc.ca/so-much-candy-data-seriously/) collected from an online survey about candy preferences that it has conducted each year since 2014. The survey included 103 questions which asked the respondent to rank types of candy, and 17 additional questions such as age and location. I focused on the 2017 survey data, for which there were 2460 respondents."
   ]
  },
  {
   "cell_type": "code",
   "execution_count": 60,
   "metadata": {},
   "outputs": [],
   "source": [
    "#import libraries\n",
    "\n",
    "import pandas as pd\n",
    "import numpy as np\n",
    "import matplotlib.pyplot as plt\n",
    "%matplotlib inline\n",
    "import warnings\n",
    "warnings.filterwarnings('ignore')"
   ]
  },
  {
   "cell_type": "code",
   "execution_count": 61,
   "metadata": {},
   "outputs": [],
   "source": [
    "#import candy data csv\n",
    "\n",
    "candy17 = pd.read_csv('candyhierarchy2017.csv', encoding = \"ISO-8859-1\", sep = ',')"
   ]
  },
  {
   "cell_type": "markdown",
   "metadata": {},
   "source": [
    "# Inspect Data"
   ]
  },
  {
   "cell_type": "code",
   "execution_count": 141,
   "metadata": {
    "scrolled": true
   },
   "outputs": [
    {
     "data": {
      "text/html": [
       "<div>\n",
       "<style scoped>\n",
       "    .dataframe tbody tr th:only-of-type {\n",
       "        vertical-align: middle;\n",
       "    }\n",
       "\n",
       "    .dataframe tbody tr th {\n",
       "        vertical-align: top;\n",
       "    }\n",
       "\n",
       "    .dataframe thead th {\n",
       "        text-align: right;\n",
       "    }\n",
       "</style>\n",
       "<table border=\"1\" class=\"dataframe\">\n",
       "  <thead>\n",
       "    <tr style=\"text-align: right;\">\n",
       "      <th></th>\n",
       "      <th>Internal ID</th>\n",
       "      <th>Q1: GOING OUT?</th>\n",
       "      <th>Q2: GENDER</th>\n",
       "      <th>Q3: AGE</th>\n",
       "      <th>Q4: COUNTRY</th>\n",
       "      <th>Q5: STATE, PROVINCE, COUNTY, ETC</th>\n",
       "      <th>Q6 | 100 Grand Bar</th>\n",
       "      <th>Q6 | Anonymous brown globs that come in black and orange wrappers\t(a.k.a. Mary Janes)</th>\n",
       "      <th>Q6 | Any full-sized candy bar</th>\n",
       "      <th>Q6 | Black Jacks</th>\n",
       "      <th>...</th>\n",
       "      <th>Q12: MEDIA [ESPN]</th>\n",
       "      <th>Q12: MEDIA [Yahoo]</th>\n",
       "      <th>Click Coordinates (x, y)</th>\n",
       "      <th>Unnamed: 120</th>\n",
       "      <th>Unnamed: 121</th>\n",
       "      <th>Unnamed: 122</th>\n",
       "      <th>Unnamed: 123</th>\n",
       "      <th>Unnamed: 124</th>\n",
       "      <th>Unnamed: 125</th>\n",
       "      <th>Unnamed: 126</th>\n",
       "    </tr>\n",
       "  </thead>\n",
       "  <tbody>\n",
       "    <tr>\n",
       "      <th>0</th>\n",
       "      <td>90258773</td>\n",
       "      <td>NaN</td>\n",
       "      <td>NaN</td>\n",
       "      <td>NaN</td>\n",
       "      <td>NaN</td>\n",
       "      <td>NaN</td>\n",
       "      <td>NaN</td>\n",
       "      <td>NaN</td>\n",
       "      <td>NaN</td>\n",
       "      <td>NaN</td>\n",
       "      <td>...</td>\n",
       "      <td>NaN</td>\n",
       "      <td>NaN</td>\n",
       "      <td>NaN</td>\n",
       "      <td>NaN</td>\n",
       "      <td>NaN</td>\n",
       "      <td>NaN</td>\n",
       "      <td>NaN</td>\n",
       "      <td>NaN</td>\n",
       "      <td>NaN</td>\n",
       "      <td>NaN</td>\n",
       "    </tr>\n",
       "    <tr>\n",
       "      <th>1</th>\n",
       "      <td>90272821</td>\n",
       "      <td>No</td>\n",
       "      <td>Male</td>\n",
       "      <td>44</td>\n",
       "      <td>USA</td>\n",
       "      <td>NM</td>\n",
       "      <td>MEH</td>\n",
       "      <td>DESPAIR</td>\n",
       "      <td>JOY</td>\n",
       "      <td>MEH</td>\n",
       "      <td>...</td>\n",
       "      <td>NaN</td>\n",
       "      <td>NaN</td>\n",
       "      <td>(84, 25)</td>\n",
       "      <td>NaN</td>\n",
       "      <td>NaN</td>\n",
       "      <td>NaN</td>\n",
       "      <td>NaN</td>\n",
       "      <td>NaN</td>\n",
       "      <td>NaN</td>\n",
       "      <td>NaN</td>\n",
       "    </tr>\n",
       "    <tr>\n",
       "      <th>2</th>\n",
       "      <td>90272829</td>\n",
       "      <td>NaN</td>\n",
       "      <td>Male</td>\n",
       "      <td>49</td>\n",
       "      <td>USA</td>\n",
       "      <td>Virginia</td>\n",
       "      <td>NaN</td>\n",
       "      <td>NaN</td>\n",
       "      <td>NaN</td>\n",
       "      <td>NaN</td>\n",
       "      <td>...</td>\n",
       "      <td>NaN</td>\n",
       "      <td>NaN</td>\n",
       "      <td>NaN</td>\n",
       "      <td>NaN</td>\n",
       "      <td>NaN</td>\n",
       "      <td>NaN</td>\n",
       "      <td>NaN</td>\n",
       "      <td>NaN</td>\n",
       "      <td>NaN</td>\n",
       "      <td>NaN</td>\n",
       "    </tr>\n",
       "    <tr>\n",
       "      <th>3</th>\n",
       "      <td>90272840</td>\n",
       "      <td>No</td>\n",
       "      <td>Male</td>\n",
       "      <td>40</td>\n",
       "      <td>us</td>\n",
       "      <td>or</td>\n",
       "      <td>MEH</td>\n",
       "      <td>DESPAIR</td>\n",
       "      <td>JOY</td>\n",
       "      <td>MEH</td>\n",
       "      <td>...</td>\n",
       "      <td>NaN</td>\n",
       "      <td>NaN</td>\n",
       "      <td>(75, 23)</td>\n",
       "      <td>NaN</td>\n",
       "      <td>NaN</td>\n",
       "      <td>NaN</td>\n",
       "      <td>NaN</td>\n",
       "      <td>NaN</td>\n",
       "      <td>NaN</td>\n",
       "      <td>NaN</td>\n",
       "    </tr>\n",
       "    <tr>\n",
       "      <th>4</th>\n",
       "      <td>90272841</td>\n",
       "      <td>No</td>\n",
       "      <td>Male</td>\n",
       "      <td>23</td>\n",
       "      <td>usa</td>\n",
       "      <td>exton pa</td>\n",
       "      <td>JOY</td>\n",
       "      <td>DESPAIR</td>\n",
       "      <td>JOY</td>\n",
       "      <td>DESPAIR</td>\n",
       "      <td>...</td>\n",
       "      <td>NaN</td>\n",
       "      <td>NaN</td>\n",
       "      <td>(70, 10)</td>\n",
       "      <td>NaN</td>\n",
       "      <td>NaN</td>\n",
       "      <td>NaN</td>\n",
       "      <td>NaN</td>\n",
       "      <td>NaN</td>\n",
       "      <td>NaN</td>\n",
       "      <td>NaN</td>\n",
       "    </tr>\n",
       "  </tbody>\n",
       "</table>\n",
       "<p>5 rows × 127 columns</p>\n",
       "</div>"
      ],
      "text/plain": [
       "   Internal ID Q1: GOING OUT? Q2: GENDER Q3: AGE Q4: COUNTRY  \\\n",
       "0     90258773            NaN        NaN     NaN         NaN   \n",
       "1     90272821             No       Male      44        USA    \n",
       "2     90272829            NaN       Male      49         USA   \n",
       "3     90272840             No       Male      40          us   \n",
       "4     90272841             No       Male      23         usa   \n",
       "\n",
       "  Q5: STATE, PROVINCE, COUNTY, ETC Q6 | 100 Grand Bar  \\\n",
       "0                              NaN                NaN   \n",
       "1                               NM                MEH   \n",
       "2                         Virginia                NaN   \n",
       "3                               or                MEH   \n",
       "4                         exton pa                JOY   \n",
       "\n",
       "  Q6 | Anonymous brown globs that come in black and orange wrappers\\t(a.k.a. Mary Janes)  \\\n",
       "0                                                NaN                                       \n",
       "1                                            DESPAIR                                       \n",
       "2                                                NaN                                       \n",
       "3                                            DESPAIR                                       \n",
       "4                                            DESPAIR                                       \n",
       "\n",
       "  Q6 | Any full-sized candy bar Q6 | Black Jacks     ...       \\\n",
       "0                           NaN              NaN     ...        \n",
       "1                           JOY              MEH     ...        \n",
       "2                           NaN              NaN     ...        \n",
       "3                           JOY              MEH     ...        \n",
       "4                           JOY          DESPAIR     ...        \n",
       "\n",
       "  Q12: MEDIA [ESPN] Q12: MEDIA [Yahoo] Click Coordinates (x, y) Unnamed: 120  \\\n",
       "0               NaN                NaN                      NaN          NaN   \n",
       "1               NaN                NaN                 (84, 25)          NaN   \n",
       "2               NaN                NaN                      NaN          NaN   \n",
       "3               NaN                NaN                 (75, 23)          NaN   \n",
       "4               NaN                NaN                 (70, 10)          NaN   \n",
       "\n",
       "  Unnamed: 121 Unnamed: 122 Unnamed: 123 Unnamed: 124 Unnamed: 125  \\\n",
       "0          NaN          NaN          NaN          NaN          NaN   \n",
       "1          NaN          NaN          NaN          NaN          NaN   \n",
       "2          NaN          NaN          NaN          NaN          NaN   \n",
       "3          NaN          NaN          NaN          NaN          NaN   \n",
       "4          NaN          NaN          NaN          NaN          NaN   \n",
       "\n",
       "  Unnamed: 126  \n",
       "0          NaN  \n",
       "1          NaN  \n",
       "2          NaN  \n",
       "3          NaN  \n",
       "4          NaN  \n",
       "\n",
       "[5 rows x 127 columns]"
      ]
     },
     "execution_count": 141,
     "metadata": {},
     "output_type": "execute_result"
    }
   ],
   "source": [
    "#check out the first few lines of data\n",
    "\n",
    "candy17.head()"
   ]
  },
  {
   "cell_type": "code",
   "execution_count": 63,
   "metadata": {},
   "outputs": [
    {
     "name": "stdout",
     "output_type": "stream",
     "text": [
      "<class 'pandas.core.frame.DataFrame'>\n",
      "RangeIndex: 2460 entries, 0 to 2459\n",
      "Columns: 127 entries, Internal ID to Unnamed: 126\n",
      "dtypes: float64(2), int64(1), object(124)\n",
      "memory usage: 2.4+ MB\n"
     ]
    }
   ],
   "source": [
    "# look at the number of entries and columns, as well as data types\n",
    "\n",
    "candy17.info()"
   ]
  },
  {
   "cell_type": "markdown",
   "metadata": {},
   "source": [
    "# Assess and Address Data Cleaning Issues"
   ]
  },
  {
   "cell_type": "markdown",
   "metadata": {},
   "source": [
    "## Issue 1: divide data into two tables: candy ratings and other questions"
   ]
  },
  {
   "cell_type": "markdown",
   "metadata": {},
   "source": [
    "There are currently 127 columns in the dataframe, most of which are candy-related questions (those with the prefix 'Q6') and others of which are demographic and other non-candy-related questions. It will make the data easier to manage if it is in two tables linked by the Internal ID column (i.e. the unique ID for each instance of the survey). "
   ]
  },
  {
   "cell_type": "code",
   "execution_count": 64,
   "metadata": {},
   "outputs": [],
   "source": [
    "cols = candy17.columns"
   ]
  },
  {
   "cell_type": "code",
   "execution_count": 65,
   "metadata": {},
   "outputs": [],
   "source": [
    "#find all column names that pertain to candy-related questions\n",
    "\n",
    "candy_cols = [c for c in cols if 'Q6' in c]\n",
    "\n",
    "#find all column names that pertain to non-candy-related questions\n",
    "\n",
    "other_cols = [q for q in cols if 'Q6' not in q]"
   ]
  },
  {
   "cell_type": "code",
   "execution_count": 66,
   "metadata": {},
   "outputs": [],
   "source": [
    "#Create table: candy_questions\n",
    "\n",
    "candy_questions = candy17[candy_cols]"
   ]
  },
  {
   "cell_type": "code",
   "execution_count": 67,
   "metadata": {},
   "outputs": [],
   "source": [
    "#Create table: other_questions\n",
    "\n",
    "other_questions = candy17[other_cols]"
   ]
  },
  {
   "cell_type": "code",
   "execution_count": 68,
   "metadata": {},
   "outputs": [],
   "source": [
    "#Copy ID column to the candy_questions table to link the two tables\n",
    "candy_questions['Internal ID'] = candy17['Internal ID']"
   ]
  },
  {
   "cell_type": "markdown",
   "metadata": {},
   "source": [
    "## Issue 2: clean up the column names"
   ]
  },
  {
   "cell_type": "markdown",
   "metadata": {},
   "source": [
    "The column names are long and will be difficult to reference in their current state, since some contain the question number followed by a colon (e.g. 'Q3: AGE') and others are followed by a pipe symbol (e.g. 'Q6 | 100 Grand Bar'). We don't need the question numbers or their punctuation, so let's get rid of them."
   ]
  },
  {
   "cell_type": "code",
   "execution_count": 69,
   "metadata": {},
   "outputs": [],
   "source": [
    "# replace all strings that start with 'Q', are followed by one or more number, and end with \n",
    "# a symbol\n",
    "\n",
    "candy_questions.columns = candy_questions.columns.str.replace('Q[0-9]+\\W+', '')"
   ]
  },
  {
   "cell_type": "code",
   "execution_count": 70,
   "metadata": {},
   "outputs": [
    {
     "data": {
      "text/plain": [
       "Index(['100 Grand Bar',\n",
       "       'Anonymous brown globs that come in black and orange wrappers\\t(a.k.a. Mary Janes)',\n",
       "       'Any full-sized candy bar', 'Black Jacks', 'Bonkers (the candy)',\n",
       "       'Bonkers (the board game)', 'Bottle Caps', 'Box'o'Raisins',\n",
       "       'Broken glow stick', 'Butterfinger',\n",
       "       ...\n",
       "       'Tolberone something or other', 'Trail Mix', 'Twix',\n",
       "       'Vials of pure high fructose corn syrup, for main-lining into your vein',\n",
       "       'Vicodin', 'Whatchamacallit Bars', 'White Bread',\n",
       "       'Whole Wheat anything', 'York Peppermint Patties', 'Internal ID'],\n",
       "      dtype='object', length=104)"
      ]
     },
     "execution_count": 70,
     "metadata": {},
     "output_type": "execute_result"
    }
   ],
   "source": [
    "# check the column names to see if that fixed it\n",
    "\n",
    "candy_questions.columns"
   ]
  },
  {
   "cell_type": "code",
   "execution_count": 71,
   "metadata": {},
   "outputs": [],
   "source": [
    "# Do the same for the other table\n",
    "\n",
    "other_questions.columns = other_questions.columns.str.replace('Q[0-9]+\\W+', '')"
   ]
  },
  {
   "cell_type": "code",
   "execution_count": 72,
   "metadata": {},
   "outputs": [
    {
     "data": {
      "text/plain": [
       "Index(['Internal ID', 'GOING OUT?', 'GENDER', 'AGE', 'COUNTRY',\n",
       "       'STATE, PROVINCE, COUNTY, ETC', 'JOY OTHER', 'DESPAIR OTHER',\n",
       "       'OTHER COMMENTS', 'DRESS', 'Unnamed: 113', 'DAY', 'MEDIA [Daily Dish]',\n",
       "       'MEDIA [Science]', 'MEDIA [ESPN]', 'MEDIA [Yahoo]',\n",
       "       'Click Coordinates (x, y)', 'Unnamed: 120', 'Unnamed: 121',\n",
       "       'Unnamed: 122', 'Unnamed: 123', 'Unnamed: 124', 'Unnamed: 125',\n",
       "       'Unnamed: 126'],\n",
       "      dtype='object')"
      ]
     },
     "execution_count": 72,
     "metadata": {},
     "output_type": "execute_result"
    }
   ],
   "source": [
    "other_questions.columns"
   ]
  },
  {
   "cell_type": "markdown",
   "metadata": {},
   "source": [
    "## Issue 3: Inconsistent and non-valid values in some columns"
   ]
  },
  {
   "cell_type": "markdown",
   "metadata": {},
   "source": [
    "### Issue 3a: \n",
    "\n",
    "There are some stray values in the MEDIA columns. These questions pertained to a choice of four images, and respondents were instructed to pick one. These columns should only contain '1' if the person clicked on that image, and NaN if they did not."
   ]
  },
  {
   "cell_type": "code",
   "execution_count": 73,
   "metadata": {},
   "outputs": [
    {
     "data": {
      "text/plain": [
       "1                                                                                                 85\n",
       "Friday                                                                                             6\n",
       "Sunday                                                                                             2\n",
       " nail clippings                                                                                    1\n",
       "Candy corn gets a bad rap. I like it but original flavor only, fresh, and in very small doses.     1\n",
       " the ending of season 3 twin peaks                                                                 1\n",
       " corn nuts                                                                                         1\n",
       "Name: MEDIA [Daily Dish], dtype: int64"
      ]
     },
     "execution_count": 73,
     "metadata": {},
     "output_type": "execute_result"
    }
   ],
   "source": [
    "# Some examples of values that do not belong in the MEDIA columns\n",
    "\n",
    "other_questions['MEDIA [Daily Dish]'].value_counts()"
   ]
  },
  {
   "cell_type": "code",
   "execution_count": 74,
   "metadata": {},
   "outputs": [],
   "source": [
    "# Write a function that converts values that are not equal to 1 to NaN\n",
    "\n",
    "def convert_nan(value):\n",
    "    if value == \"1\":       # \"1\" because 1 is a string in the columns we want to change\n",
    "        return 1\n",
    "    elif value == np.nan:\n",
    "        return np.nan\n",
    "    else:\n",
    "        return np.nan"
   ]
  },
  {
   "cell_type": "code",
   "execution_count": 75,
   "metadata": {},
   "outputs": [],
   "source": [
    "# Apply the convert_nan function to all the MEDIA columns\n",
    "\n",
    "other_questions.loc[:, 'MEDIA [Daily Dish]':'MEDIA [Yahoo]'] = other_questions.loc[:, 'MEDIA [Daily Dish]':'MEDIA [Yahoo]'].applymap(convert_nan)"
   ]
  },
  {
   "cell_type": "code",
   "execution_count": 76,
   "metadata": {},
   "outputs": [
    {
     "data": {
      "text/plain": [
       "1.0    85\n",
       "Name: MEDIA [Daily Dish], dtype: int64"
      ]
     },
     "execution_count": 76,
     "metadata": {},
     "output_type": "execute_result"
    }
   ],
   "source": [
    "# Check the value counts in some of the MEDIA columns to make sure all stray values were \n",
    "# converted to Nan\n",
    "\n",
    "other_questions['MEDIA [Daily Dish]'].value_counts()"
   ]
  },
  {
   "cell_type": "code",
   "execution_count": 77,
   "metadata": {},
   "outputs": [
    {
     "data": {
      "text/plain": [
       "1.0    1350\n",
       "Name: MEDIA [Science], dtype: int64"
      ]
     },
     "execution_count": 77,
     "metadata": {},
     "output_type": "execute_result"
    }
   ],
   "source": [
    "other_questions['MEDIA [Science]'].value_counts()"
   ]
  },
  {
   "cell_type": "markdown",
   "metadata": {},
   "source": [
    "### Issue 3b: \n",
    "\n",
    "Country names need to be standardized. There are currently several values that have multiple names for the same place (e.g. 'USA' and 'United States'; 'UK' and 'United Kingdom') and differences in capitalization cause problems (e.g. 'Canada' vs. 'canada')."
   ]
  },
  {
   "cell_type": "code",
   "execution_count": 78,
   "metadata": {
    "scrolled": true
   },
   "outputs": [
    {
     "name": "stdout",
     "output_type": "stream",
     "text": [
      "USA                         699\n",
      "United States               497\n",
      "usa                         217\n",
      "Canada                      179\n",
      "Usa                         139\n",
      "US                          126\n",
      "USA                          73\n",
      "United States of America     57\n",
      "us                           40\n",
      "united states                38\n",
      "Name: COUNTRY, dtype: int64\n"
     ]
    }
   ],
   "source": [
    "print(other_questions['COUNTRY'].value_counts().nlargest(10))"
   ]
  },
  {
   "cell_type": "code",
   "execution_count": 79,
   "metadata": {},
   "outputs": [],
   "source": [
    "# Convert all country names to lowercase to avoid differences in capitalization \n",
    "\n",
    "other_questions.COUNTRY = other_questions.COUNTRY.str.lower()"
   ]
  },
  {
   "cell_type": "code",
   "execution_count": 80,
   "metadata": {},
   "outputs": [],
   "source": [
    "# Change all instances referring to the US, America, etc. to 'united states'\n",
    "\n",
    "other_questions.COUNTRY = other_questions['COUNTRY'].str.replace('(us|us|united states of america|america|u.s.|united states|unites states)', \n",
    "                                                                'united states')"
   ]
  },
  {
   "cell_type": "code",
   "execution_count": 81,
   "metadata": {},
   "outputs": [],
   "source": [
    "# Catch any other instances and convert to 'united states'\n",
    "\n",
    "other_questions.COUNTRY = other_questions['COUNTRY'].str.replace('(united statesa|united states.)', 'united states') "
   ]
  },
  {
   "cell_type": "code",
   "execution_count": 82,
   "metadata": {},
   "outputs": [],
   "source": [
    "# Convert Nans in COUNTRY column to 'none' in order to iterate over column\n",
    "\n",
    "other_questions.COUNTRY = other_questions.COUNTRY.fillna('none')"
   ]
  },
  {
   "cell_type": "code",
   "execution_count": 83,
   "metadata": {},
   "outputs": [
    {
     "data": {
      "text/plain": [
       "united states          1926\n",
       "canada                  215\n",
       "united states            74\n",
       "none                     64\n",
       "uk                       17\n",
       "united kingdom           14\n",
       "germany                  10\n",
       "canada                    9\n",
       "united states.            8\n",
       "aunited statesralia       7\n",
       "Name: COUNTRY, dtype: int64"
      ]
     },
     "execution_count": 83,
     "metadata": {},
     "output_type": "execute_result"
    }
   ],
   "source": [
    "other_questions.COUNTRY.value_counts().nlargest(10)"
   ]
  },
  {
   "cell_type": "code",
   "execution_count": 84,
   "metadata": {},
   "outputs": [],
   "source": [
    "# There are still some instances where 'united states is misspelled or has extra characters.\n",
    "# Create a function to find those instances and replace them with 'united states'\n",
    "\n",
    "def convert_us(string):\n",
    "    if 'united state' in string:\n",
    "        return 'united states'\n",
    "    else:\n",
    "        return string"
   ]
  },
  {
   "cell_type": "code",
   "execution_count": 85,
   "metadata": {},
   "outputs": [],
   "source": [
    "# use the convert_us function to catch other instances of 'united states' with extra characters\n",
    "\n",
    "other_questions.COUNTRY = other_questions.COUNTRY.apply(convert_us)"
   ]
  },
  {
   "cell_type": "markdown",
   "metadata": {},
   "source": [
    "We're getting somewhere. The count for 'united states' went from 1853 to 2037:"
   ]
  },
  {
   "cell_type": "code",
   "execution_count": 86,
   "metadata": {},
   "outputs": [
    {
     "data": {
      "text/plain": [
       "united states     2037\n",
       "canada             215\n",
       "none                64\n",
       "uk                  17\n",
       "united kingdom      14\n",
       "germany             10\n",
       "canada               9\n",
       "netherlands          6\n",
       "japan                5\n",
       "mexico               4\n",
       "Name: COUNTRY, dtype: int64"
      ]
     },
     "execution_count": 86,
     "metadata": {},
     "output_type": "execute_result"
    }
   ],
   "source": [
    "other_questions.COUNTRY.value_counts().nlargest(10)"
   ]
  },
  {
   "cell_type": "code",
   "execution_count": 87,
   "metadata": {},
   "outputs": [],
   "source": [
    "# Collapse values for 'united kingdom'\n",
    "\n",
    "other_questions.COUNTRY = other_questions['COUNTRY'].str.replace('uk', 'united kingdom')"
   ]
  },
  {
   "cell_type": "code",
   "execution_count": 88,
   "metadata": {},
   "outputs": [],
   "source": [
    "# Collapse values for 'canada' and 'canada ' (the same string with a space at the end)\n",
    "\n",
    "other_questions.COUNTRY = other_questions['COUNTRY'].str.replace('canada ', 'canada')"
   ]
  },
  {
   "cell_type": "markdown",
   "metadata": {},
   "source": [
    "It looks like most of the variations in spelling/capitalization for the top countries have now been collapsed into single values."
   ]
  },
  {
   "cell_type": "code",
   "execution_count": 89,
   "metadata": {},
   "outputs": [
    {
     "data": {
      "text/plain": [
       "united states     2037\n",
       "canada             224\n",
       "none                64\n",
       "united kingdom      31\n",
       "germany             10\n",
       "netherlands          6\n",
       "japan                5\n",
       "scotland             4\n",
       "mexico               4\n",
       "ireland              3\n",
       "Name: COUNTRY, dtype: int64"
      ]
     },
     "execution_count": 89,
     "metadata": {},
     "output_type": "execute_result"
    }
   ],
   "source": [
    "other_questions.COUNTRY.value_counts().nlargest(10)"
   ]
  },
  {
   "cell_type": "markdown",
   "metadata": {},
   "source": [
    "## Issue 4: Miscellaneous Issues "
   ]
  },
  {
   "cell_type": "markdown",
   "metadata": {},
   "source": [
    "### Issue 4a: Remove 'Unnamed' columns, as they do not appear to contain any valid data."
   ]
  },
  {
   "cell_type": "code",
   "execution_count": 115,
   "metadata": {},
   "outputs": [],
   "source": [
    "cols = other_questions.columns\n",
    "\n",
    "unnamed = [c for c in cols if 'Unnamed' in cols]\n",
    "\n",
    "other_questions = other_questions.drop(unnamed)"
   ]
  },
  {
   "cell_type": "markdown",
   "metadata": {},
   "source": [
    "### Issue 4b: Convert 'Despair', 'Joy', 'Meh' ratings to numeric ratings"
   ]
  },
  {
   "cell_type": "code",
   "execution_count": 117,
   "metadata": {},
   "outputs": [],
   "source": [
    "def convert_numeric(resp):\n",
    "    if resp == 'DESPAIR':\n",
    "        return 0\n",
    "    elif resp  == 'MEH':\n",
    "        return 1\n",
    "    elif resp  == 'JOY':\n",
    "        return 2\n",
    "    else :\n",
    "        return resp"
   ]
  },
  {
   "cell_type": "code",
   "execution_count": 118,
   "metadata": {},
   "outputs": [],
   "source": [
    "candy_questions = candy_questions.applymap(convert_numeric)"
   ]
  },
  {
   "cell_type": "markdown",
   "metadata": {},
   "source": [
    "### Issue 4c: Remove non-numeric entries from 'AGE' column in other_questions table."
   ]
  },
  {
   "cell_type": "code",
   "execution_count": 120,
   "metadata": {},
   "outputs": [],
   "source": [
    "# Coerce AGE column to numeric, dropping non-numeric entries\n",
    "\n",
    "other_questions = other_questions[pd.to_numeric(other_questions['AGE'], errors='coerce').notnull()]\n"
   ]
  },
  {
   "cell_type": "markdown",
   "metadata": {},
   "source": [
    "# Analysis"
   ]
  },
  {
   "cell_type": "markdown",
   "metadata": {},
   "source": [
    "1. Let's plot the candies in the top 25 and bottom 25 percentiles of ratings."
   ]
  },
  {
   "cell_type": "code",
   "execution_count": 121,
   "metadata": {},
   "outputs": [
    {
     "data": {
      "text/html": [
       "<div>\n",
       "<style scoped>\n",
       "    .dataframe tbody tr th:only-of-type {\n",
       "        vertical-align: middle;\n",
       "    }\n",
       "\n",
       "    .dataframe tbody tr th {\n",
       "        vertical-align: top;\n",
       "    }\n",
       "\n",
       "    .dataframe thead th {\n",
       "        text-align: right;\n",
       "    }\n",
       "</style>\n",
       "<table border=\"1\" class=\"dataframe\">\n",
       "  <thead>\n",
       "    <tr style=\"text-align: right;\">\n",
       "      <th></th>\n",
       "      <th>average</th>\n",
       "    </tr>\n",
       "  </thead>\n",
       "  <tbody>\n",
       "    <tr>\n",
       "      <th>count</th>\n",
       "      <td>1.030000e+02</td>\n",
       "    </tr>\n",
       "    <tr>\n",
       "      <th>mean</th>\n",
       "      <td>8.765074e+05</td>\n",
       "    </tr>\n",
       "    <tr>\n",
       "      <th>std</th>\n",
       "      <td>8.895568e+06</td>\n",
       "    </tr>\n",
       "    <tr>\n",
       "      <th>min</th>\n",
       "      <td>8.722919e-02</td>\n",
       "    </tr>\n",
       "    <tr>\n",
       "      <th>25%</th>\n",
       "      <td>6.928157e-01</td>\n",
       "    </tr>\n",
       "    <tr>\n",
       "      <th>50%</th>\n",
       "      <td>1.027057e+00</td>\n",
       "    </tr>\n",
       "    <tr>\n",
       "      <th>75%</th>\n",
       "      <td>1.450316e+00</td>\n",
       "    </tr>\n",
       "    <tr>\n",
       "      <th>max</th>\n",
       "      <td>9.028016e+07</td>\n",
       "    </tr>\n",
       "  </tbody>\n",
       "</table>\n",
       "</div>"
      ],
      "text/plain": [
       "            average\n",
       "count  1.030000e+02\n",
       "mean   8.765074e+05\n",
       "std    8.895568e+06\n",
       "min    8.722919e-02\n",
       "25%    6.928157e-01\n",
       "50%    1.027057e+00\n",
       "75%    1.450316e+00\n",
       "max    9.028016e+07"
      ]
     },
     "execution_count": 121,
     "metadata": {},
     "output_type": "execute_result"
    }
   ],
   "source": [
    "#find average score for each type of candy\n",
    "candy_avg = candy_questions.mean()\n",
    "\n",
    "#reset index\n",
    "candy_avg = candy_avg.reset_index()\n",
    "\n",
    "# change column names\n",
    "candy_avg.columns = ['candy', 'average']\n",
    "\n",
    "candy_avg.describe()"
   ]
  },
  {
   "cell_type": "code",
   "execution_count": 122,
   "metadata": {},
   "outputs": [],
   "source": [
    "# Find candies in the top 25 percentile of average scores\n",
    "\n",
    "top_25 = candy_avg[(candy_avg.average > 1.429980e+00) & (candy_avg.candy != 'Internal ID')]\n",
    "\n",
    "# Sort by average score, descending\n",
    "\n",
    "top_25 = top_25.sort_values('average', ascending = False)\n"
   ]
  },
  {
   "cell_type": "code",
   "execution_count": 123,
   "metadata": {},
   "outputs": [
    {
     "data": {
      "image/png": "[encoded data removed]",
      "text/plain": [
       "<Figure size 1080x576 with 1 Axes>"
      ]
     },
     "metadata": {
      "needs_background": "light"
     },
     "output_type": "display_data"
    }
   ],
   "source": [
    "plt.figure(figsize=(15, 8))\n",
    "plt.bar(top_25.candy, top_25.average, color = 'orange')\n",
    "plt.xticks(rotation = 80)\n",
    "plt.ylim(1, 2)\n",
    "plt.yticks(np.arange(1, 1.92, step = .15))\n",
    "plt.ylabel('Average Rating')\n",
    "plt.xlabel('Candy')\n",
    "plt.title('Highest Rated Candies');"
   ]
  },
  {
   "cell_type": "code",
   "execution_count": 124,
   "metadata": {},
   "outputs": [],
   "source": [
    "# find bottom 25 percentile rated candies\n",
    "\n",
    "bottom_25 = candy_avg[(candy_avg.average < 6.720907e-01) & (candy_avg.candy != 'Internal ID')]"
   ]
  },
  {
   "cell_type": "code",
   "execution_count": 125,
   "metadata": {},
   "outputs": [],
   "source": [
    "# write a function that trims character length in candy column\n",
    "\n",
    "def trim_names(candy):\n",
    "    for c in candy:\n",
    "        return candy[0:30]"
   ]
  },
  {
   "cell_type": "code",
   "execution_count": 126,
   "metadata": {},
   "outputs": [],
   "source": [
    "# apply the function to the candy column to trim candy names to a reasonable length\n",
    "\n",
    "bottom_25.candy = bottom_25.candy.apply(trim_names)"
   ]
  },
  {
   "cell_type": "code",
   "execution_count": 128,
   "metadata": {},
   "outputs": [],
   "source": [
    "bottom_25 = bottom_25.sort_values('average', ascending = False)"
   ]
  },
  {
   "cell_type": "code",
   "execution_count": 129,
   "metadata": {},
   "outputs": [
    {
     "data": {
      "image/png": "[encoded data removed]",
      "text/plain": [
       "<Figure size 1080x576 with 1 Axes>"
      ]
     },
     "metadata": {
      "needs_background": "light"
     },
     "output_type": "display_data"
    }
   ],
   "source": [
    "plt.figure(figsize=(15,8))\n",
    "plt.bar(bottom_25.candy, bottom_25.average, color = 'black')\n",
    "plt.xticks( rotation = 80)\n",
    "plt.ylabel('Average Rating')\n",
    "plt.xlabel('Candy')\n",
    "plt.title('Lowest Rated Candies');"
   ]
  },
  {
   "cell_type": "markdown",
   "metadata": {},
   "source": [
    "2. Let's look at candy preferences by age group "
   ]
  },
  {
   "cell_type": "code",
   "execution_count": 130,
   "metadata": {},
   "outputs": [],
   "source": [
    "# Merge the tables back together to match and candy preferences\n",
    "\n",
    "all_qs = candy_questions.merge(other_questions, on=\"Internal ID\")\n",
    "\n",
    "# Convert AGE column to float \n",
    "\n",
    "all_qs.AGE = all_qs.AGE.astype(float)\n",
    "\n",
    "# drop ID column\n",
    "\n",
    "all_qs = all_qs.drop('Internal ID', axis = 1)"
   ]
  },
  {
   "cell_type": "code",
   "execution_count": 131,
   "metadata": {},
   "outputs": [],
   "source": [
    "# Create age segments \n",
    "\n",
    "senior = all_qs[all_qs.AGE >= 60]\n",
    "adult = all_qs[(all_qs.AGE > 30) & (all_qs.AGE < 60)]\n",
    "young_adult = all_qs[(all_qs.AGE <= 30) & (all_qs.AGE >= 18)]\n",
    "children = all_qs[all_qs.AGE < 18]"
   ]
  },
  {
   "cell_type": "code",
   "execution_count": 132,
   "metadata": {},
   "outputs": [],
   "source": [
    "# Find average scores for senior and children segments\n",
    "\n",
    "senior_avg = senior.mean()\n",
    "\n",
    "children_avg = children.mean()"
   ]
  },
  {
   "cell_type": "code",
   "execution_count": 133,
   "metadata": {},
   "outputs": [],
   "source": [
    "# Reset indexes and rename columns\n",
    "\n",
    "senior_avg = senior_avg.reset_index()\n",
    "children_avg = children_avg.reset_index()\n",
    "\n",
    "senior_avg.columns = ['candy', 'average']\n",
    "children_avg.columns = ['candy', 'average']"
   ]
  },
  {
   "cell_type": "code",
   "execution_count": 134,
   "metadata": {},
   "outputs": [],
   "source": [
    "# drop nans \n",
    "\n",
    "senior_avg = senior_avg.dropna()\n",
    "children_avg = children_avg.dropna()"
   ]
  },
  {
   "cell_type": "code",
   "execution_count": 136,
   "metadata": {},
   "outputs": [],
   "source": [
    "# Find candies in each demographic whose ratings were in the 95th percentile\n",
    "\n",
    "senior_95th = np.percentile(senior_avg.average, 95)\n",
    "children_95th = np.percentile(children_avg.average, 95)"
   ]
  },
  {
   "cell_type": "code",
   "execution_count": 137,
   "metadata": {},
   "outputs": [
    {
     "name": "stdout",
     "output_type": "stream",
     "text": [
      "1.7023242412600843 1.7912499999999998\n"
     ]
    }
   ],
   "source": [
    "print(senior_95th, children_95th)"
   ]
  },
  {
   "cell_type": "code",
   "execution_count": 138,
   "metadata": {},
   "outputs": [],
   "source": [
    "sen_candy = senior_avg[(senior_avg.average > senior_95th) & (senior_avg.candy != 'AGE')]\n",
    "child_candy = children_avg[(children_avg.average > children_95th) & (children_avg.candy != 'AGE')]"
   ]
  },
  {
   "cell_type": "code",
   "execution_count": 139,
   "metadata": {},
   "outputs": [],
   "source": [
    "sen_candy = sen_candy.sort_values('average', ascending = False)\n",
    "child_candy = child_candy.sort_values('average', ascending = False)"
   ]
  },
  {
   "cell_type": "code",
   "execution_count": 140,
   "metadata": {},
   "outputs": [
    {
     "data": {
      "image/png": "[encoded data removed]",
      "text/plain": [
       "<Figure size 1080x504 with 2 Axes>"
      ]
     },
     "metadata": {
      "needs_background": "light"
     },
     "output_type": "display_data"
    }
   ],
   "source": [
    "plt.subplots(2,2,figsize=(15,7))\n",
    "\n",
    "plt.subplot(121)\n",
    "plt.bar(sen_candy.candy, sen_candy.average, color = 'purple')\n",
    "plt.xticks(rotation = 65)\n",
    "plt.yticks(np.arange(1, 2, step=.2))\n",
    "plt.ylim(1,2)\n",
    "plt.title('Senior Candy Ratings')\n",
    "\n",
    "plt.subplot(122)\n",
    "plt.bar(child_candy.candy, child_candy.average, color = 'green')\n",
    "plt.xticks(rotation=65)\n",
    "plt.yticks(np.arange(1, 2.2, step=.2))\n",
    "plt.ylim(1,2)\n",
    "plt.title('Children Candy Ratings');\n"
   ]
  },
  {
   "cell_type": "markdown",
   "metadata": {},
   "source": [
    "Interestingly, children tended to rate cash higher than seniors did, but both groups appreciated the value of a full-size candy bar or a Dove bar. Twix, the highest-rated candy by children, did not even make it into the senior top 5 percentile. Children also gave higher average ratings to their top candies than seniors. "
   ]
  }
 ],
 "metadata": {
  "kernelspec": {
   "display_name": "Python 3",
   "language": "python",
   "name": "python3"
  },
  "language_info": {
   "codemirror_mode": {
    "name": "ipython",
    "version": 3
   },
   "file_extension": ".py",
   "mimetype": "text/x-python",
   "name": "python",
   "nbconvert_exporter": "python",
   "pygments_lexer": "ipython3",
   "version": "3.6.6"
  }
 },
 "nbformat": 4,
 "nbformat_minor": 2
}
